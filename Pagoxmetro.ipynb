{
  "nbformat": 4,
  "nbformat_minor": 0,
  "metadata": {
    "colab": {
      "provenance": [],
      "authorship_tag": "ABX9TyMmmYn9fduem8CfdS8FCai3",
      "include_colab_link": true
    },
    "kernelspec": {
      "name": "python3",
      "display_name": "Python 3"
    },
    "language_info": {
      "name": "python"
    }
  },
  "cells": [
    {
      "cell_type": "markdown",
      "metadata": {
        "id": "view-in-github",
        "colab_type": "text"
      },
      "source": [
        "<a href=\"https://colab.research.google.com/github/CGUEVARA03/PROGRAMACION-3/blob/main/Pagoxmetro.ipynb\" target=\"_parent\"><img src=\"https://colab.research.google.com/assets/colab-badge.svg\" alt=\"Open In Colab\"/></a>"
      ]
    },
    {
      "cell_type": "code",
      "source": [
        "Precio = 6"
      ],
      "metadata": {
        "id": "nQSHt5YqnXK_"
      },
      "execution_count": 4,
      "outputs": []
    },
    {
      "cell_type": "code",
      "execution_count": 5,
      "metadata": {
        "colab": {
          "base_uri": "https://localhost:8080/"
        },
        "id": "9A1CTL75nUl2",
        "outputId": "cca56a1d-6f55-4e21-c4b5-20facb31441e"
      },
      "outputs": [
        {
          "output_type": "stream",
          "name": "stdout",
          "text": [
            "Metros consumidos: 24\n",
            "Total a pagar 9.15\n"
          ]
        }
      ],
      "source": [
        "Metros = float(input(\"Metros consumidos: \"))\n",
        "if(Metros<18):\n",
        "  print(\"Total a pagar\", Precio)\n",
        "elif(Metros<28):\n",
        "  print(\"Total a pagar\", 3.15 + Precio)\n",
        "elif (Metros<40):\n",
        "  print(\"Total a pagar\", 11 + Precio)\n",
        "else:\n",
        "  print('Maximo de metros a poseer es 40')\n"
      ]
    }
  ]
}