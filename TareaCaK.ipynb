{
  "nbformat": 4,
  "nbformat_minor": 0,
  "metadata": {
    "colab": {
      "provenance": [],
      "authorship_tag": "ABX9TyMnSrDe5eruplq1GFnOsPpB",
      "include_colab_link": true
    },
    "kernelspec": {
      "name": "python3",
      "display_name": "Python 3"
    },
    "language_info": {
      "name": "python"
    }
  },
  "cells": [
    {
      "cell_type": "markdown",
      "metadata": {
        "id": "view-in-github",
        "colab_type": "text"
      },
      "source": [
        "<a href=\"https://colab.research.google.com/github/CGUEVARA03/PROGRAMACION-3/blob/main/TareaCaK.ipynb\" target=\"_parent\"><img src=\"https://colab.research.google.com/assets/colab-badge.svg\" alt=\"Open In Colab\"/></a>"
      ]
    },
    {
      "cell_type": "code",
      "execution_count": 3,
      "metadata": {
        "colab": {
          "base_uri": "https://localhost:8080/"
        },
        "id": "LRm8cS5Nl_Ru",
        "outputId": "3a279b36-0f15-4f8c-b684-d16bb90751c6"
      },
      "outputs": [
        {
          "output_type": "stream",
          "name": "stdout",
          "text": [
            "Ingrese los grados Celsius a convertir: 76\n",
            "349.15\n"
          ]
        }
      ],
      "source": [
        "ConversionCaK = lambda c : c + 273.15\n",
        "GradosC =float(input('Ingrese los grados Celsius a convertir: '))\n",
        "print(ConversionCaK(GradosC))"
      ]
    },
    {
      "cell_type": "code",
      "source": [
        "ConversionKaC = lambda c : c - 273.15\n",
        "GradosK =float(input('Ingrese los grados Kelvin a convertir: '))\n",
        "print(ConversionKaC(GradosK))\n"
      ],
      "metadata": {
        "colab": {
          "base_uri": "https://localhost:8080/"
        },
        "id": "kDSrXyS3nAqh",
        "outputId": "655805d0-b131-46a0-aabc-8cf88553c761"
      },
      "execution_count": 4,
      "outputs": [
        {
          "output_type": "stream",
          "name": "stdout",
          "text": [
            "Ingrese los grados Kelvin a convertir: 3546\n",
            "3272.85\n"
          ]
        }
      ]
    }
  ]
}