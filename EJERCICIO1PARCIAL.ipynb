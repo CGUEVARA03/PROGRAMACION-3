{
  "nbformat": 4,
  "nbformat_minor": 0,
  "metadata": {
    "colab": {
      "provenance": [],
      "authorship_tag": "ABX9TyMlFRHkix+KkX7RFdINazHo",
      "include_colab_link": true
    },
    "kernelspec": {
      "name": "python3",
      "display_name": "Python 3"
    },
    "language_info": {
      "name": "python"
    }
  },
  "cells": [
    {
      "cell_type": "markdown",
      "metadata": {
        "id": "view-in-github",
        "colab_type": "text"
      },
      "source": [
        "<a href=\"https://colab.research.google.com/github/CGUEVARA03/PROGRAMACION-3/blob/main/EJERCICIO1PARCIAL.ipynb\" target=\"_parent\"><img src=\"https://colab.research.google.com/assets/colab-badge.svg\" alt=\"Open In Colab\"/></a>"
      ]
    },
    {
      "cell_type": "markdown",
      "source": [
        "Desarrolle un algoritmo en Python que permita obtener los descuentos ISSS, \n",
        "AFP,  I.S.R,  vacaciones,  aguinaldo  etc.  Uno  para  empresas  y  otro  para \n",
        "personas. Favor investigue los datos correspondientes según ley. El usuario \n",
        "deberá ingresar el sueldo y que el sistema le diga el valor neto a pagarle y \n",
        "las deducciones. (30%) "
      ],
      "metadata": {
        "id": "OjWU8XlDn02h"
      }
    },
    {
      "cell_type": "markdown",
      "source": [
        "Para empresas\n"
      ],
      "metadata": {
        "id": "t3ed4cEsr5vH"
      }
    },
    {
      "cell_type": "code",
      "source": [
        "empresa = float(input(\"El salario es de: \"))\n",
        "ISSS = empresa * 0.075\n",
        "AFP = empresa * 0.015\n",
        "VCN = empresa * 0.030\n",
        "AGN = empresa * 0.050\n",
        "desc = (ISSS + AFP)\n",
        "aumen = ( VCN + AGN)\n",
        "salario = empresa - (ISSS + AFP) +  (VCN + AGN)"
      ],
      "metadata": {
        "id": "zz7hVGG0_hPT",
        "colab": {
          "base_uri": "https://localhost:8080/"
        },
        "outputId": "7b46d210-e7db-46cd-d211-ff37b87694ba"
      },
      "execution_count": null,
      "outputs": [
        {
          "name": "stdout",
          "output_type": "stream",
          "text": [
            "El salario es de: 21000\n"
          ]
        }
      ]
    },
    {
      "cell_type": "code",
      "source": [
        "print(\"El descuento de AFP es de: \",AFP,\n",
        "      \"El descuento de ISS es de: \",ISSS,\n",
        "      \"El aumento por trabajar en vacaciones es de: \",VCN, \n",
        "      \"El aumento de su aguinaldo es de: \",AGN)"
      ],
      "metadata": {
        "id": "FQfDvvbA_hHT",
        "colab": {
          "base_uri": "https://localhost:8080/"
        },
        "outputId": "983172dd-1e6a-492b-d00b-8e80c8970b19"
      },
      "execution_count": null,
      "outputs": [
        {
          "output_type": "stream",
          "name": "stdout",
          "text": [
            "El descuento de AFP es de:  315.0 El descuento de ISS es de:  1575.0 El aumento por trabajar en vacaciones es de:  630.0 El aumento de su aguinaldo es de:  1050.0\n"
          ]
        }
      ]
    },
    {
      "cell_type": "code",
      "source": [
        "if (salario <= 100000.00):\n",
        "  print(\"Su salario  es de: \", salario)\n",
        "  print(\"Está libre de impuestos ISR\")\n",
        "\n",
        "elif(salario <= 150000.00):\n",
        "  tramoII = salario * 0.10\n",
        "  salariorenta = (salario - tramoII)\n",
        "  print(\"El ISR total a pagar es de: \", tramoII)\n",
        "  print(\"Su salario es de: \", salariorenta)\n",
        "\n",
        "elif(salario <= 200000.00):\n",
        "  tramoIII = salario * 0.20\n",
        "  salariorenta = (salario - tramoIII)\n",
        "  print(\"El ISR a pagar es de: \",tramoIII)\n",
        "  print(\"Su salario es de: \",salariorenta)\n",
        "\n",
        "elif(salario >= 200000.00):\n",
        "  tramoIV = salario * 0.30\n",
        "  salariorenta = (salario - tramoIV)\n",
        "  print(\"El ISR a pagar es de: \",tramoIV)\n",
        "  print(\"Su salario es de: \", salariorenta)\n",
        "\n",
        "else:\n",
        "  print(\"Está libre de impuesto :)\")"
      ],
      "metadata": {
        "id": "TCM0xSWi_g-y",
        "colab": {
          "base_uri": "https://localhost:8080/"
        },
        "outputId": "0552840a-26af-44fd-bbd1-eae072af2c72"
      },
      "execution_count": null,
      "outputs": [
        {
          "output_type": "stream",
          "name": "stdout",
          "text": [
            "Su salario  es de:  20790.0\n",
            "Está libre de impuestos ISR\n"
          ]
        }
      ]
    },
    {
      "cell_type": "markdown",
      "source": [
        "Para personas"
      ],
      "metadata": {
        "id": "kJtFgMAFu1wb"
      }
    },
    {
      "cell_type": "code",
      "source": [
        "salario = float(input(\"Su salario es de: \"))\n",
        "ISSS = salario * 0.003\n",
        "AFP = salario * 0.0625\n",
        "VCN = salario * 0.025\n",
        "AGN = salario * 0.010\n",
        "desc = (ISSS + AFP)\n",
        "aumen = (VCN + AGN)\n",
        "salario = salario - (ISSS + AFP) + (VCN + AGN)\n"
      ],
      "metadata": {
        "id": "xWH__k0E_g2M",
        "colab": {
          "base_uri": "https://localhost:8080/"
        },
        "outputId": "29a3748b-dfed-41bb-f071-09f1e1b11eb5"
      },
      "execution_count": null,
      "outputs": [
        {
          "name": "stdout",
          "output_type": "stream",
          "text": [
            "Su salario es de: 750\n"
          ]
        }
      ]
    },
    {
      "cell_type": "code",
      "source": [
        "print(\"El descuento de AFP es de: \",AFP,\n",
        "      \"El descuento de ISS es de: \",ISSS,\n",
        "      \"El aumento por trabajar en vacaciones es de: \",VCN,\n",
        "      \"El aumento por su aguinaldo es de: \",AGN)"
      ],
      "metadata": {
        "colab": {
          "base_uri": "https://localhost:8080/"
        },
        "id": "6MvIGhpiw9P5",
        "outputId": "f79593a3-3649-4587-c27f-78368ec775b3"
      },
      "execution_count": null,
      "outputs": [
        {
          "output_type": "stream",
          "name": "stdout",
          "text": [
            "El descuento de AFP es de:  46.875 El descuento de ISS es de:  2.25 El aumento por trabajar en vacaciones es de:  18.75 El aumento por su aguinaldo es de:  7.5\n"
          ]
        }
      ]
    },
    {
      "cell_type": "code",
      "source": [
        "if (salario <= 520.00):\n",
        "  print(\"Su salario es de: \",salario)\n",
        "  print(\"Está libre de impuestos ISR\")\n",
        "\n",
        "elif(salario <= 900.00):\n",
        "  tramoII = salario * 0.10\n",
        "  salariorenta = (salario - tramoII)\n",
        "  print(\"El ISR total a pagar es de: \",tramoII)\n",
        "  print(\"Su salario es de: \",salariorenta)\n",
        "\n",
        "elif(salario <= 2000.00):\n",
        "  tramoIII = salario * 0.20\n",
        "  salariorenta = (salario - tramoIII)\n",
        "  print(\"El ISR total a pagar es de: \",tramoIII)\n",
        "  print(\"Su salario es de: \",salariorenta)\n",
        "\n",
        "elif(salario >= 2000):\n",
        "  tramoIV = salario * 0.30\n",
        "  salariorenta = (salario - tramoIV)\n",
        "  print(\"El ISR total a pagar es de: \",tramoIV)\n",
        "  print(\"Su salario es de: \",salariorenta)\n",
        "\n",
        "else:\n",
        "  print(\"Está libre de impuestos ISR\")"
      ],
      "metadata": {
        "colab": {
          "base_uri": "https://localhost:8080/"
        },
        "id": "SBluYC5kw9Ke",
        "outputId": "0f10ba7e-fcb1-450b-ed2e-23fc2284613d"
      },
      "execution_count": null,
      "outputs": [
        {
          "output_type": "stream",
          "name": "stdout",
          "text": [
            "El ISR total a pagar es de:  72.7125\n",
            "Su salario es de:  654.4125\n"
          ]
        }
      ]
    }
  ]
}