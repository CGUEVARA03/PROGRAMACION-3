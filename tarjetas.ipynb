{
  "nbformat": 4,
  "nbformat_minor": 0,
  "metadata": {
    "colab": {
      "provenance": [],
      "authorship_tag": "ABX9TyOvirXpLuObxvRYYvoPsPtb",
      "include_colab_link": true
    },
    "kernelspec": {
      "name": "python3",
      "display_name": "Python 3"
    },
    "language_info": {
      "name": "python"
    }
  },
  "cells": [
    {
      "cell_type": "markdown",
      "metadata": {
        "id": "view-in-github",
        "colab_type": "text"
      },
      "source": [
        "<a href=\"https://colab.research.google.com/github/CGUEVARA03/PROGRAMACION-3/blob/main/tarjetas.ipynb\" target=\"_parent\"><img src=\"https://colab.research.google.com/assets/colab-badge.svg\" alt=\"Open In Colab\"/></a>"
      ]
    },
    {
      "cell_type": "code",
      "execution_count": 3,
      "metadata": {
        "id": "dgZvAcN9WIzX"
      },
      "outputs": [],
      "source": [
        "import pandas as pd\n",
        "import matplotlib.pyplot as plt"
      ]
    },
    {
      "cell_type": "code",
      "source": [
        "credito = pd.read_csv(\"/content/trx_tarjetas_credito.csv\", sep=\",\")\n",
        "print(credito)"
      ],
      "metadata": {
        "colab": {
          "base_uri": "https://localhost:8080/"
        },
        "id": "EhzEcGjMXg9_",
        "outputId": "12678f9a-d4fc-4ec2-f238-871ecea4d1dc"
      },
      "execution_count": 16,
      "outputs": [
        {
          "output_type": "stream",
          "name": "stdout",
          "text": [
            "                  City       Date  Card Type Exp Type Gender  Amount\n",
            "Delhi            India  29-Oct-14       Gold    Bills      F   82475\n",
            "Greater Mumbai   India  22-Aug-14   Platinum    Bills      F   32555\n",
            "Bengaluru        India  27-Aug-14     Silver    Bills      F  101738\n",
            "Greater Mumbai   India  12-Apr-14  Signature    Bills      F  123424\n",
            "Bengaluru        India   5-May-15       Gold    Bills      F  171574\n",
            "...                ...        ...        ...      ...    ...     ...\n",
            "Kolkata          India  22-Jun-14     Silver   Travel      F  128191\n",
            "Pune             India   3-Aug-14  Signature   Travel      M  246316\n",
            "Hyderabad        India  16-Jan-15     Silver   Travel      M  265019\n",
            "Kanpur           India  14-Sep-14     Silver   Travel      M   88174\n",
            "Hyderabad        India  19-Oct-13  Signature    Bills      M  184410\n",
            "\n",
            "[26052 rows x 6 columns]\n"
          ]
        }
      ]
    },
    {
      "cell_type": "markdown",
      "source": [
        "Uso de tarjetas por sexo"
      ],
      "metadata": {
        "id": "YreFTF1OaG_S"
      }
    },
    {
      "cell_type": "code",
      "source": [
        "sexo = pd.crosstab(index = credito[\"Gender\"], columns= \"fr\")\n",
        "print(sexo)"
      ],
      "metadata": {
        "colab": {
          "base_uri": "https://localhost:8080/"
        },
        "id": "K5rmlOAjaKVj",
        "outputId": "d6f0f9f5-4d60-40e5-f076-ed959413e644"
      },
      "execution_count": 25,
      "outputs": [
        {
          "output_type": "stream",
          "name": "stdout",
          "text": [
            "col_0      fr\n",
            "Gender       \n",
            "F       13680\n",
            "M       12372\n"
          ]
        }
      ]
    },
    {
      "cell_type": "markdown",
      "source": [
        "Uso de tarjetas por ciudad"
      ],
      "metadata": {
        "id": "7hK__Bjnb-wJ"
      }
    },
    {
      "cell_type": "code",
      "source": [
        "print(credito.groupby(by=[\"City\",\"Card Type\"]).sum())"
      ],
      "metadata": {
        "colab": {
          "base_uri": "https://localhost:8080/"
        },
        "id": "KSEUkuB5b8Pe",
        "outputId": "d55808d2-8f42-44e5-b52c-3238eb6638b1"
      },
      "execution_count": 26,
      "outputs": [
        {
          "output_type": "stream",
          "name": "stdout",
          "text": [
            "                      Amount\n",
            "City   Card Type            \n",
            " India Gold        984539536\n",
            "       Platinum   1007639019\n",
            "       Signature  1013041105\n",
            "       Silver     1069613713\n"
          ]
        }
      ]
    },
    {
      "cell_type": "markdown",
      "source": [
        "Uso de tarjetas por gastos"
      ],
      "metadata": {
        "id": "PO28Ll_Yc25p"
      }
    },
    {
      "cell_type": "code",
      "source": [
        "print(credito.groupby(by=[\"Exp Type\"]).sum().groupby(level=[0]).cumsum())"
      ],
      "metadata": {
        "colab": {
          "base_uri": "https://localhost:8080/"
        },
        "id": "QpFQC5y5c5vL",
        "outputId": "de7b3422-896b-4fe0-a14f-ced36522eea3"
      },
      "execution_count": 27,
      "outputs": [
        {
          "output_type": "stream",
          "name": "stdout",
          "text": [
            "                  Amount\n",
            "Exp Type                \n",
            "Bills          907072473\n",
            "Entertainment  726437536\n",
            "Food           824724009\n",
            "Fuel           789135821\n",
            "Grocery        718207923\n",
            "Travel         109255611\n"
          ]
        }
      ]
    },
    {
      "cell_type": "code",
      "source": [
        "tabla = pd.crosstab(index= credito[\"Gender\"], columns=\"fr\")\n",
        "plt.pie(tabla,labels=tabla.index)\n",
        "plt.xlabel(\"Uso de tarjetas por género\")\n",
        "plt.show()\n",
        "tabla.to_csv(\"/content/genero.csv\")"
      ],
      "metadata": {
        "colab": {
          "base_uri": "https://localhost:8080/",
          "height": 320
        },
        "id": "0OMC7irbdkf3",
        "outputId": "b9c4e5a0-d185-4351-b60d-83016cd812e6"
      },
      "execution_count": 45,
      "outputs": [
        {
          "output_type": "stream",
          "name": "stderr",
          "text": [
            "/usr/local/lib/python3.7/dist-packages/ipykernel_launcher.py:2: MatplotlibDeprecationWarning: Non-1D inputs to pie() are currently squeeze()d, but this behavior is deprecated since 3.1 and will be removed in 3.3; pass a 1D array instead.\n",
            "  \n"
          ]
        },
        {
          "output_type": "display_data",
          "data": {
            "text/plain": [
              "<Figure size 432x288 with 1 Axes>"
            ],
            "image/png": "[encoded data removed]"
          },
          "metadata": {}
        }
      ]
    },
    {
      "cell_type": "markdown",
      "source": [
        "Uso de tarjetas por tipo"
      ],
      "metadata": {
        "id": "cNV4vIK0lTc7"
      }
    },
    {
      "cell_type": "code",
      "source": [
        "tarjeta = pd.crosstab(index= credito[\"Card Type\"], columns = \"fr\")\n",
        "plt.pie(tarjeta,labels=tarjeta.index)\n",
        "plt.xlabel(\"Uso de tarjetas por tipo\")\n",
        "plt.show()\n",
        "tarjeta.to_csv(\"/content/tarjeta.csv\")"
      ],
      "metadata": {
        "colab": {
          "base_uri": "https://localhost:8080/",
          "height": 319
        },
        "id": "FZtFgMwTlTI5",
        "outputId": "d953f025-37f9-49da-ca67-beb4d0c89947"
      },
      "execution_count": 54,
      "outputs": [
        {
          "output_type": "stream",
          "name": "stderr",
          "text": [
            "/usr/local/lib/python3.7/dist-packages/ipykernel_launcher.py:2: MatplotlibDeprecationWarning: Non-1D inputs to pie() are currently squeeze()d, but this behavior is deprecated since 3.1 and will be removed in 3.3; pass a 1D array instead.\n",
            "  \n"
          ]
        },
        {
          "output_type": "display_data",
          "data": {
            "text/plain": [
              "<Figure size 432x288 with 1 Axes>"
            ],
            "image/png": "[encoded data removed]"
          },
          "metadata": {}
        }
      ]
    },
    {
      "cell_type": "markdown",
      "source": [
        "Tipos de uso"
      ],
      "metadata": {
        "id": "EbHIfChBouBt"
      }
    },
    {
      "cell_type": "code",
      "source": [
        "tipos= pd.crosstab(index = credito[\"Exp Type\"], columns= \"fr\")\n",
        "plt.pie(tipos, labels= tipos.index)\n",
        "plt.xlabel(\"Tipo de usos\")\n",
        "plt.show()\n",
        "tipos.to_csv(\"/content/tipos.csv\")"
      ],
      "metadata": {
        "colab": {
          "base_uri": "https://localhost:8080/",
          "height": 319
        },
        "id": "sQRhKShTou9C",
        "outputId": "fc1dda62-7f8f-4860-834c-e5abc2389549"
      },
      "execution_count": 62,
      "outputs": [
        {
          "output_type": "stream",
          "name": "stderr",
          "text": [
            "/usr/local/lib/python3.7/dist-packages/ipykernel_launcher.py:2: MatplotlibDeprecationWarning: Non-1D inputs to pie() are currently squeeze()d, but this behavior is deprecated since 3.1 and will be removed in 3.3; pass a 1D array instead.\n",
            "  \n"
          ]
        },
        {
          "output_type": "display_data",
          "data": {
            "text/plain": [
              "<Figure size 432x288 with 1 Axes>"
            ],
            "image/png": "[encoded data removed]"
          },
          "metadata": {}
        }
      ]
    },
    {
      "cell_type": "markdown",
      "source": [
        "Uso de tarjetas por ciudad"
      ],
      "metadata": {
        "id": "bMaFcWOZkmbM"
      }
    },
    {
      "cell_type": "code",
      "source": [
        "tabla2 =pd.crosstab(index =credito[\"City\"], columns=\"fr\")\n",
        "plt.pie(tabla2, labels=tabla2.index)\n",
        "plt.xlabel(\"Uso de tarjetas por ciudad\")\n",
        "plt.show()\n",
        "tabla2.to_csv(\"/content/tabla2.csv\")"
      ],
      "metadata": {
        "colab": {
          "base_uri": "https://localhost:8080/",
          "height": 319
        },
        "id": "CQzdUEKQqYhK",
        "outputId": "8d7c475f-f05e-43d2-8708-986892b254bd"
      },
      "execution_count": 63,
      "outputs": [
        {
          "output_type": "stream",
          "name": "stderr",
          "text": [
            "/usr/local/lib/python3.7/dist-packages/ipykernel_launcher.py:2: MatplotlibDeprecationWarning: Non-1D inputs to pie() are currently squeeze()d, but this behavior is deprecated since 3.1 and will be removed in 3.3; pass a 1D array instead.\n",
            "  \n"
          ]
        },
        {
          "output_type": "display_data",
          "data": {
            "text/plain": [
              "<Figure size 432x288 with 1 Axes>"
            ],
            "image/png": "[encoded data removed]"
          },
          "metadata": {}
        }
      ]
    }
  ]
}